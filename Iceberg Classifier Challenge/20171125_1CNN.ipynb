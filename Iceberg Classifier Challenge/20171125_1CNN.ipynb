{
 "cells": [
  {
   "cell_type": "code",
   "execution_count": 1,
   "metadata": {
    "collapsed": true
   },
   "outputs": [],
   "source": [
    "import tensorflow as tf\n",
    "import pandas as pd\n",
    "import numpy as np\n",
    "import seaborn as sns\n",
    "import matplotlib.pyplot as plt\n",
    "import time\n",
    "import os\n",
    "import glob\n",
    "%matplotlib inline"
   ]
  },
  {
   "cell_type": "code",
   "execution_count": 2,
   "metadata": {},
   "outputs": [],
   "source": [
    "train_df=pd.read_json(r'/home/yw/study/Competition/Iceberg-Classifier-Challenge_20171125/train.json')\n",
    "pred_df=pd.read_json(r'/home/yw/study/Competition/Iceberg-Classifier-Challenge_20171125/test.json')"
   ]
  },
  {
   "cell_type": "code",
   "execution_count": 3,
   "metadata": {},
   "outputs": [
    {
     "data": {
      "text/html": [
       "<div>\n",
       "<style>\n",
       "    .dataframe thead tr:only-child th {\n",
       "        text-align: right;\n",
       "    }\n",
       "\n",
       "    .dataframe thead th {\n",
       "        text-align: left;\n",
       "    }\n",
       "\n",
       "    .dataframe tbody tr th {\n",
       "        vertical-align: top;\n",
       "    }\n",
       "</style>\n",
       "<table border=\"1\" class=\"dataframe\">\n",
       "  <thead>\n",
       "    <tr style=\"text-align: right;\">\n",
       "      <th></th>\n",
       "      <th>band_1</th>\n",
       "      <th>band_2</th>\n",
       "      <th>id</th>\n",
       "      <th>inc_angle</th>\n",
       "    </tr>\n",
       "  </thead>\n",
       "  <tbody>\n",
       "    <tr>\n",
       "      <th>0</th>\n",
       "      <td>[-15.863251, -15.201077, -17.887735, -19.17248...</td>\n",
       "      <td>[-21.629612, -21.142353, -23.908337, -28.34524...</td>\n",
       "      <td>5941774d</td>\n",
       "      <td>34.966400</td>\n",
       "    </tr>\n",
       "    <tr>\n",
       "      <th>1</th>\n",
       "      <td>[-26.058969497680664, -26.058969497680664, -26...</td>\n",
       "      <td>[-25.754207611083984, -25.754207611083984, -25...</td>\n",
       "      <td>4023181e</td>\n",
       "      <td>32.615072</td>\n",
       "    </tr>\n",
       "    <tr>\n",
       "      <th>2</th>\n",
       "      <td>[-14.14109992980957, -15.064241409301758, -17....</td>\n",
       "      <td>[-14.74563980102539, -14.590410232543945, -14....</td>\n",
       "      <td>b20200e4</td>\n",
       "      <td>37.505433</td>\n",
       "    </tr>\n",
       "  </tbody>\n",
       "</table>\n",
       "</div>"
      ],
      "text/plain": [
       "                                              band_1  \\\n",
       "0  [-15.863251, -15.201077, -17.887735, -19.17248...   \n",
       "1  [-26.058969497680664, -26.058969497680664, -26...   \n",
       "2  [-14.14109992980957, -15.064241409301758, -17....   \n",
       "\n",
       "                                              band_2        id  inc_angle  \n",
       "0  [-21.629612, -21.142353, -23.908337, -28.34524...  5941774d  34.966400  \n",
       "1  [-25.754207611083984, -25.754207611083984, -25...  4023181e  32.615072  \n",
       "2  [-14.74563980102539, -14.590410232543945, -14....  b20200e4  37.505433  "
      ]
     },
     "execution_count": 3,
     "metadata": {},
     "output_type": "execute_result"
    }
   ],
   "source": [
    "pred_df.head(3)"
   ]
  },
  {
   "cell_type": "code",
   "execution_count": 4,
   "metadata": {},
   "outputs": [
    {
     "data": {
      "text/html": [
       "<div>\n",
       "<style>\n",
       "    .dataframe thead tr:only-child th {\n",
       "        text-align: right;\n",
       "    }\n",
       "\n",
       "    .dataframe thead th {\n",
       "        text-align: left;\n",
       "    }\n",
       "\n",
       "    .dataframe tbody tr th {\n",
       "        vertical-align: top;\n",
       "    }\n",
       "</style>\n",
       "<table border=\"1\" class=\"dataframe\">\n",
       "  <thead>\n",
       "    <tr style=\"text-align: right;\">\n",
       "      <th></th>\n",
       "      <th>band_1</th>\n",
       "      <th>band_2</th>\n",
       "      <th>id</th>\n",
       "      <th>inc_angle</th>\n",
       "      <th>is_iceberg</th>\n",
       "    </tr>\n",
       "  </thead>\n",
       "  <tbody>\n",
       "    <tr>\n",
       "      <th>0</th>\n",
       "      <td>[-27.878360999999998, -27.15416, -28.668615, -...</td>\n",
       "      <td>[-27.154118, -29.537888, -31.0306, -32.190483,...</td>\n",
       "      <td>dfd5f913</td>\n",
       "      <td>43.9239</td>\n",
       "      <td>0</td>\n",
       "    </tr>\n",
       "    <tr>\n",
       "      <th>1</th>\n",
       "      <td>[-12.242375, -14.920304999999999, -14.920363, ...</td>\n",
       "      <td>[-31.506321, -27.984554, -26.645678, -23.76760...</td>\n",
       "      <td>e25388fd</td>\n",
       "      <td>38.1562</td>\n",
       "      <td>0</td>\n",
       "    </tr>\n",
       "    <tr>\n",
       "      <th>2</th>\n",
       "      <td>[-24.603676, -24.603714, -24.871029, -23.15277...</td>\n",
       "      <td>[-24.870956, -24.092632, -20.653963, -19.41104...</td>\n",
       "      <td>58b2aaa0</td>\n",
       "      <td>45.2859</td>\n",
       "      <td>1</td>\n",
       "    </tr>\n",
       "  </tbody>\n",
       "</table>\n",
       "</div>"
      ],
      "text/plain": [
       "                                              band_1  \\\n",
       "0  [-27.878360999999998, -27.15416, -28.668615, -...   \n",
       "1  [-12.242375, -14.920304999999999, -14.920363, ...   \n",
       "2  [-24.603676, -24.603714, -24.871029, -23.15277...   \n",
       "\n",
       "                                              band_2        id inc_angle  \\\n",
       "0  [-27.154118, -29.537888, -31.0306, -32.190483,...  dfd5f913   43.9239   \n",
       "1  [-31.506321, -27.984554, -26.645678, -23.76760...  e25388fd   38.1562   \n",
       "2  [-24.870956, -24.092632, -20.653963, -19.41104...  58b2aaa0   45.2859   \n",
       "\n",
       "   is_iceberg  \n",
       "0           0  \n",
       "1           0  \n",
       "2           1  "
      ]
     },
     "execution_count": 4,
     "metadata": {},
     "output_type": "execute_result"
    }
   ],
   "source": [
    "train_df.head(3)"
   ]
  },
  {
   "cell_type": "code",
   "execution_count": 5,
   "metadata": {
    "collapsed": true
   },
   "outputs": [],
   "source": [
    "def generate_minibatch(inputs=None,batch_size=128,shuffle=True):\n",
    "    data_cnt=inputs.shape[0]\n",
    "    if batch_size>data_cnt:\n",
    "        raise('batch bigger than data nmber')\n",
    "    if shuffle:\n",
    "        df=inputs.sample(data_cnt)\n",
    "    else:\n",
    "        df=inputs\n",
    "    start_idx=0\n",
    "    end_idx=batch_size\n",
    "    while True:\n",
    "        if end_idx<start_idx:\n",
    "            batch_df=df.iloc[start_idx:].append(df.iloc[:end_idx])\n",
    "        else:\n",
    "            batch_df=df.iloc[start_idx:end_idx]\n",
    "        start_idx=(start_idx+batch_size)%data_cnt\n",
    "        end_idx=(start_idx+batch_size)%data_cnt\n",
    "        band1=np.array([x for x in batch_df['band_1']])\n",
    "        band2=np.array([x for x in batch_df['band_2']])\n",
    "        imgs=np.stack([band1.reshape(-1,75,75),band2.reshape(-1,75,75)],axis=-1)\n",
    "        labels=batch_df['is_iceberg'].astype(np.int32).values\n",
    "        yield imgs,labels"
   ]
  },
  {
   "cell_type": "code",
   "execution_count": 6,
   "metadata": {
    "collapsed": true
   },
   "outputs": [],
   "source": [
    "mini=generate_minibatch(inputs=train_df,batch_size=128)\n",
    "img,label=next(mini)"
   ]
  },
  {
   "cell_type": "markdown",
   "metadata": {},
   "source": [
    "#  构建网络"
   ]
  },
  {
   "cell_type": "code",
   "execution_count": 7,
   "metadata": {},
   "outputs": [],
   "source": [
    "def inference(input_tensor,keep_prob,regularizer):\n",
    "    with tf.variable_scope('layer1-conv1') as scope:\n",
    "        conv1_weights=tf.get_variable(name='weight',shape=[5,5,2,32],initializer=tf.random_normal_initializer(stddev=0.1,mean=0,seed=9))\n",
    "        conv1_biases=tf.get_variable(name='bias',shape=[32],initializer=tf.constant_initializer(0.1))\n",
    "        conv1=tf.nn.conv2d(input_tensor,conv1_weights,strides=[1,1,1,1],padding='SAME')\n",
    "        relu1=tf.nn.relu(tf.nn.bias_add(conv1,conv1_biases))\n",
    "        tf.summary.histogram('layer1-conv1-w',conv1_weights)\n",
    "        tf.summary.histogram('layer1-conv1-b',conv1_biases)\n",
    "    with tf.name_scope('layer2-pool1'):\n",
    "        pool1=tf.nn.max_pool(relu1,ksize=[1,2,2,1],strides=[1,2,2,1],padding='VALID')\n",
    "        \n",
    "    with tf.variable_scope('layer3-conv2'):\n",
    "        conv2_weights=tf.get_variable(name='weight',shape=[5,5,32,64],initializer=tf.truncated_normal_initializer(stddev=0.1,mean=0.0))\n",
    "        conv2_biases=tf.get_variable(name='bias',shape=64,initializer=tf.constant_initializer(0.1))\n",
    "        conv2=tf.nn.conv2d(pool1,conv2_weights,strides=[1,1,1,1],padding='SAME')\n",
    "        relu2=tf.nn.relu(tf.nn.bias_add(conv2,conv2_biases))\n",
    "    with tf.name_scope('layer4-pool2'):\n",
    "        pool2=tf.nn.max_pool(relu2,ksize=[1,2,2,1],strides=[1,2,2,1],padding='VALID')\n",
    "        \n",
    "    with tf.variable_scope('layer5-conv3'):\n",
    "        conv3_weights=tf.get_variable('weight',shape=[3,3,64,128],initializer=tf.truncated_normal_initializer(stddev=0.1,mean=0.0))\n",
    "        conv3_biases=tf.get_variable('bias',shape=[128],initializer=tf.constant_initializer(0.0))\n",
    "        conv3=tf.nn.conv2d(pool2,conv3_weights,strides=[1,1,1,1],padding='SAME')\n",
    "        relu3=tf.nn.relu(tf.nn.bias_add(conv3,conv3_biases))\n",
    "    with tf.name_scope('layer6-pool3'):\n",
    "        pool3=tf.nn.max_pool(relu3,ksize=[1,2,2,1],strides=[1,2,2,1],padding='VALID')\n",
    "    \n",
    "    with tf.variable_scope('layer7-conv4'):\n",
    "        conv4_weights=tf.get_variable(name='weight',shape=[3,3,128,128],initializer=tf.truncated_normal_initializer(stddev=0.1,mean=0.0,seed=9))\n",
    "        conv4_biases=tf.get_variable(name='bias',shape=[128],initializer=tf.constant_initializer(0.1))\n",
    "        conv4=tf.nn.conv2d(pool3,conv4_weights,strides=[1,1,1,1],padding='SAME')\n",
    "        relu4=tf.nn.relu(tf.nn.bias_add(conv4,conv4_biases))\n",
    "    with tf.name_scope('layer8-pool4'):\n",
    "        pool4=tf.nn.max_pool(relu4,ksize=[1,2,2,1],strides=[1,2,2,1],padding='VALID')\n",
    "        nodes=4*4*128\n",
    "        flatened=tf.reshape(pool4,[-1,nodes])\n",
    "    \n",
    "    with tf.variable_scope('layer9-fc1'):\n",
    "        fc1_weights=tf.get_variable(name='weight',shape=[nodes,1024],initializer=tf.truncated_normal_initializer(stddev=0.1))\n",
    "        if regularizer!=None:\n",
    "            tf.add_to_collection('losses',regularizer(fc1_weights))\n",
    "        fc1_biases=tf.get_variable(name='bias',shape=[1024],initializer=tf.constant_initializer(0.1))\n",
    "        fc1=tf.nn.relu(tf.matmul(flatened,fc1_weights)+fc1_biases)\n",
    "        fc1=tf.nn.dropout(fc1,keep_prob)\n",
    "    \n",
    "    with tf.variable_scope('layer10-fc2'):\n",
    "        fc2_weights=tf.get_variable(name='weight',shape=[1024,512],initializer=tf.truncated_normal_initializer(stddev=0.1))\n",
    "        if regularizer!=None:\n",
    "            tf.add_to_collection('losses',regularizer(fc2_weights))\n",
    "        fc2_biases=tf.get_variable(name='bias',shape=[512],initializer=tf.constant_initializer(0.1))\n",
    "        fc2=tf.nn.relu(tf.matmul(fc1,fc2_weights)+fc2_biases)\n",
    "        fc2=tf.nn.dropout(fc2,keep_prob)\n",
    "    \n",
    "    with tf.variable_scope('layer11-fc3'):\n",
    "        fc3_weights=tf.get_variable(name='weight',shape=[512,2],initializer=tf.truncated_normal_initializer(stddev=0.1))\n",
    "        if regularizer!=None:\n",
    "            tf.add_to_collection('losses',regularizer(fc3_weights))\n",
    "        fc3_biases=tf.get_variable(name='bias',shape=[2],initializer=tf.constant_initializer(0.1))\n",
    "        logit=tf.matmul(fc2,fc3_weights)+fc3_biases\n",
    "    return logit"
   ]
  },
  {
   "cell_type": "code",
   "execution_count": 8,
   "metadata": {
    "collapsed": true
   },
   "outputs": [],
   "source": [
    "img_h=75\n",
    "img_w=75\n",
    "img_c=2\n",
    "n_steps=1000\n",
    "batch_size=64\n",
    "model_path='/home/yw/study/Competition/Iceberg-Classifier-Challenge_20171125/experiments/20171125_CNN_model/cnn.ckpt'"
   ]
  },
  {
   "cell_type": "code",
   "execution_count": 9,
   "metadata": {
    "collapsed": true
   },
   "outputs": [],
   "source": [
    "conv_graph=tf.Graph()"
   ]
  },
  {
   "cell_type": "code",
   "execution_count": 10,
   "metadata": {},
   "outputs": [],
   "source": [
    "with conv_graph.as_default():\n",
    "    x=tf.placeholder(shape=[None,img_w,img_h,img_c],dtype=tf.float32,name='input_imgs')\n",
    "    y=tf.placeholder(shape=[None],dtype=tf.int32,name='input_labels')\n",
    "    keep_prob = tf.placeholder(tf.float32,name='keep_prob')\n",
    "    regularizer=tf.contrib.layers.l2_regularizer(0.0001)\n",
    "    logits=inference(x,keep_prob,regularizer)\n",
    "    b = tf.constant(value=1,dtype=tf.float32)\n",
    "    logits_eval = tf.multiply(logits,b,name='logits_eval')\n",
    "    \n",
    "    loss=tf.nn.sparse_softmax_cross_entropy_with_logits(logits=logits,labels=y)\n",
    "    avg_loss=tf.reduce_mean(loss)\n",
    "    tf.summary.scalar('loss',avg_loss)\n",
    "    train_op=tf.train.AdamOptimizer(learning_rate=0.001).minimize(loss)\n",
    "    saver=tf.train.Saver()"
   ]
  },
  {
   "cell_type": "markdown",
   "metadata": {},
   "source": [
    "# 训练模型"
   ]
  },
  {
   "cell_type": "code",
   "execution_count": 11,
   "metadata": {
    "scrolled": true
   },
   "outputs": [
    {
     "name": "stdout",
     "output_type": "stream",
     "text": [
      "train_loss: 4412.77\n",
      "train_loss: 0.476953\n",
      "train_loss: 0.51231\n",
      "train_loss: 0.538695\n",
      "train_loss: 0.504007\n",
      "train_loss: 0.592786\n",
      "train_loss: 0.565555\n",
      "train_loss: 0.52059\n",
      "train_loss: 0.486121\n",
      "train_loss: 0.431998\n",
      "train_loss: 0.410492\n",
      "Time: 4997.533344\n"
     ]
    }
   ],
   "source": [
    "with tf.Session(graph=conv_graph) as sess:\n",
    "    summary_merge=tf.summary.merge_all()\n",
    "    writer=tf.summary.FileWriter('/home/yw/study/Competition/Iceberg-Classifier-Challenge_20171125/experiments/info_view',sess.graph)\n",
    "    start_time=time.clock()\n",
    "    sess.run(tf.global_variables_initializer())\n",
    "    train_loss=0.0\n",
    "    i=0\n",
    "    for img,label in generate_minibatch(train_df,batch_size):\n",
    "        _,infos=sess.run([train_op,summary_merge],feed_dict={x:img,y:label,keep_prob:0.5})\n",
    "        writer.add_summary(infos,i)\n",
    "        if i%100==0:\n",
    "            train_loss=sess.run(avg_loss,feed_dict={x:img,y:label,keep_prob:1.0})\n",
    "            print('train_loss:',train_loss)\n",
    "        i+=1\n",
    "        if i>n_steps:\n",
    "            break\n",
    "    end_time=time.clock()\n",
    "    print('Time:',end_time-start_time)\n",
    "    saver.save(sess,model_path)"
   ]
  },
  {
   "cell_type": "code",
   "execution_count": 12,
   "metadata": {
    "collapsed": true
   },
   "outputs": [],
   "source": [
    "model_dir=\"/home/yw/study/Competition/Iceberg-Classifier-Challenge_20171125/experiments/20171125_CNN_model/\""
   ]
  },
  {
   "cell_type": "code",
   "execution_count": 13,
   "metadata": {},
   "outputs": [
    {
     "name": "stdout",
     "output_type": "stream",
     "text": [
      "INFO:tensorflow:Restoring parameters from /home/yw/study/Competition/Iceberg-Classifier-Challenge_20171125/experiments/20171125_CNN_model/cnn.ckpt\n",
      "[[  0.24976924   0.5734238 ]\n",
      " [  0.24976924   0.5734238 ]\n",
      " [ 21.60421181   4.36430502]\n",
      " ..., \n",
      " [  0.24976924   0.5734238 ]\n",
      " [  0.05412548   1.25605106]\n",
      " [  2.05029821   0.70146734]]\n"
     ]
    }
   ],
   "source": [
    "with tf.Session() as sess:\n",
    "    saver = tf.train.import_meta_graph(model_dir+\"cnn.ckpt.meta\")\n",
    "    saver.restore(sess, model_dir+\"cnn.ckpt\")\n",
    "    graph=tf.get_default_graph()\n",
    "    x=graph.get_tensor_by_name(\"input_imgs:0\")\n",
    "    keep_prob=graph.get_tensor_by_name(\"keep_prob:0\")\n",
    "    logits=graph.get_tensor_by_name('layer11-fc3/add:0')\n",
    "    pred_band1=np.array([x for x in pred_df['band_1']])\n",
    "    pred_band2=np.array([x for x in pred_df['band_2']])\n",
    "    pred_imgs=np.stack([pred_band1.reshape(-1,75,75),pred_band2.reshape(-1,75,75)],axis=-1)\n",
    "    pred_logits=sess.run(logits,feed_dict={x:pred_imgs,keep_prob:1.0})\n",
    "    print(pred_logits)"
   ]
  },
  {
   "cell_type": "code",
   "execution_count": 22,
   "metadata": {},
   "outputs": [
    {
     "name": "stderr",
     "output_type": "stream",
     "text": [
      "/usr/anaconda3/lib/python3.6/site-packages/ipykernel_launcher.py:1: RuntimeWarning: overflow encountered in exp\n",
      "  \"\"\"Entry point for launching an IPython kernel.\n",
      "/usr/anaconda3/lib/python3.6/site-packages/ipykernel_launcher.py:1: RuntimeWarning: invalid value encountered in true_divide\n",
      "  \"\"\"Entry point for launching an IPython kernel.\n"
     ]
    }
   ],
   "source": [
    "pred_prob=(np.exp(pred_logits)/(np.exp(pred_logits).sum(axis=1)).reshape(-1,1))[:,1]"
   ]
  },
  {
   "cell_type": "code",
   "execution_count": 24,
   "metadata": {},
   "outputs": [],
   "source": [
    "pred_df['is_iceberg']=pred_prob"
   ]
  },
  {
   "cell_type": "code",
   "execution_count": 26,
   "metadata": {},
   "outputs": [],
   "source": [
    "pred_df[['id','is_iceberg']].to_csv('/home/yw/study/Competition/Iceberg-Classifier-Challenge_20171125/experiments/20171125_1cnn.csv',index=False)"
   ]
  },
  {
   "cell_type": "code",
   "execution_count": null,
   "metadata": {
    "collapsed": true
   },
   "outputs": [],
   "source": []
  }
 ],
 "metadata": {
  "kernelspec": {
   "display_name": "Python 3",
   "language": "python",
   "name": "python3"
  },
  "language_info": {
   "codemirror_mode": {
    "name": "ipython",
    "version": 3
   },
   "file_extension": ".py",
   "mimetype": "text/x-python",
   "name": "python",
   "nbconvert_exporter": "python",
   "pygments_lexer": "ipython3",
   "version": "3.6.2"
  }
 },
 "nbformat": 4,
 "nbformat_minor": 2
}
